{
 "cells": [
  {
   "cell_type": "code",
   "execution_count": 1,
   "id": "a3f8f952-285f-4e9a-8744-2b4c1031fb85",
   "metadata": {},
   "outputs": [],
   "source": [
    "import simulated_bifurcation as sb\n",
    "import torch\n",
    "from itertools import combinations\n",
    "import numpy as np\n",
    "import numpy.testing as npt\n",
    "import sympy\n",
    "from sympy import symbols, QQ\n",
    "import re\n",
    "import warnings\n",
    "# warnings.filterwarnings(\"error\")"
   ]
  },
  {
   "cell_type": "code",
   "execution_count": 2,
   "id": "6a2c794d-0282-429e-98fc-3b31ebb66cf2",
   "metadata": {},
   "outputs": [],
   "source": [
    "def preprocess(model, gens):\n",
    "    \"\"\"\n",
    "    Establish the correct/allowed model symbols (gens) and update the model accordingly\n",
    "    \"\"\"\n",
    "    if gens is None:\n",
    "        gens = []\n",
    "        for gen in model.ring.gens:\n",
    "            if re.match('x[1-9][0-9]*', str(gen)):\n",
    "                gens.append(gen)\n",
    "            # elif re.match('x0$', str(gen)):\n",
    "            #     pass                \n",
    "        gens = tuple(gens)\n",
    "\n",
    "    drop_gens = set(model.ring.gens).difference(set(gens))\n",
    "    for gen in drop_gens:\n",
    "        warnings.warn(f'Symbol \"{str(gen)}\" was dropped from the model')\n",
    "        model = model.drop(model.ring(gen))\n",
    "\n",
    "    return model, gens\n",
    "\n",
    "def split_constant_term(model, gens):\n",
    "    \"\"\"\n",
    "    Separate the constant term from the polynomial expression\n",
    "    \"\"\"\n",
    "    model_dict = model.to_dict()\n",
    "    constant_monom = (0,) * len(gens)\n",
    "    constant = model_dict.pop(constant_monom, None)\n",
    "    if constant is None:\n",
    "        constant = 0\n",
    "    else:\n",
    "        constant = float(constant)\n",
    "        if constant.is_integer():\n",
    "            constant = int(constant)\n",
    "\n",
    "    return model.ring(model_dict), constant\n",
    "\n",
    "\n",
    "def square_diagonal_terms(model, gens):\n",
    "    \"\"\"\n",
    "    Convert linear terms, $x_i$, to squared terms, $x_i*x_i$ \n",
    "    \"\"\"\n",
    "    tmp_monom = [0,] * len(gens)\n",
    "    squared_dict = model.to_dict().copy()\n",
    "    for i, gen in enumerate(gens):\n",
    "        tmp_monom[i] = 1\n",
    "        coeff = squared_dict.pop(tuple(tmp_monom), None)\n",
    "        tmp_monom[i] = 2\n",
    "        if coeff is not None:\n",
    "            squared_dict[tuple(tmp_monom)] = squared_dict.get(tuple(tmp_monom), 0) + coeff\n",
    "        tmp_monom[i] = 0\n",
    "\n",
    "    return model.ring(squared_dict)\n",
    "\n",
    "\n",
    "def poly_to_Q(model, gens=None):\n",
    "    \"\"\"\n",
    "    Convert a `sympy` PolyElement model to its corresponding Q matrix and constant\n",
    "    \"\"\"\n",
    "\n",
    "    model, gens = preprocess(model, gens)\n",
    "    model, constant = split_constant_term(model, gens)\n",
    "    model = square_diagonal_terms(model, gens)\n",
    "\n",
    "    Q = torch.zeros((len(gens), len(gens)), dtype=torch.float64)\n",
    "    monoms = torch.tensor(model.monoms(), dtype=torch.int32)\n",
    "    coeffs = torch.tensor(model.coeffs(), dtype=torch.float64)\n",
    "    for i in range(len(monoms)):\n",
    "        idx = torch.nonzero(monoms[i])\n",
    "        if len(idx) == 2:\n",
    "            value = 0.5*coeffs[i]\n",
    "            Q[idx[0], idx[1]] = value\n",
    "            Q[idx[1], idx[0]] = value\n",
    "        elif len(idx) == 1:\n",
    "            Q[idx[0], idx[0]] = coeffs[i]\n",
    "        else:\n",
    "            warnings.warn(f'Unrecognized non-quadratic terms were excluded from the model')\n",
    "    \n",
    "    return Q, constant"
   ]
  },
  {
   "cell_type": "markdown",
   "id": "820838d2-0e9a-4bb8-939e-3251fcbb1792",
   "metadata": {},
   "source": [
    "# Modeling Common Combinatorial Optimization Problems as Ising Models\n",
    "\n",
    "Here, we use simulated bifurcation to minimize the Hamiltonian that is represented by our Ising model"
   ]
  },
  {
   "cell_type": "markdown",
   "id": "4e9514f9-06b0-4104-9345-dcc7a3ee52a7",
   "metadata": {},
   "source": [
    "$$H(\\textbf{s}=(s_{1},s_{2},...,s_{n})) = \\sum_{i \\in V} h_{i}s_{i} + \\sum_{\\{ij\\} \\in E} j_{ij}s_{i}s_{j},\\;\\;\\; s_{i}=\\pm1$$"
   ]
  },
  {
   "cell_type": "markdown",
   "id": "083df639-4804-4302-ad00-43d569fd8583",
   "metadata": {},
   "source": [
    "# Number Partition\n",
    "\n",
    "[See this blog](https://medium.com/arnaldo-gunzi-quantum/interpretation-of-the-numerical-partition-problem-using-the-ising-model-c90e4edf5754)\n",
    "\n",
    "Given a set of numbers, `S = [9, 6, 5, 1, 4, 9, 12, 5, 2, 15]`, is there a partition into two distinct sets R and S-R, so that the sum of the elements is the same?"
   ]
  },
  {
   "cell_type": "code",
   "execution_count": 3,
   "id": "381e0f1d-1e8b-486d-81ad-50ca18189293",
   "metadata": {},
   "outputs": [],
   "source": [
    "S = torch.tensor([9, 6, 5, 1, 4, 9, 12, 5, 2, 15]).unsqueeze(1)\n",
    "matrix = S @ S.t()"
   ]
  },
  {
   "cell_type": "code",
   "execution_count": 4,
   "id": "c59d9bed-9f0c-4a1d-9d9a-22577c0bd284",
   "metadata": {},
   "outputs": [
    {
     "data": {
      "text/plain": [
       "tensor([[ 81,  54,  45,   9,  36,  81, 108,  45,  18, 135],\n",
       "        [ 54,  36,  30,   6,  24,  54,  72,  30,  12,  90],\n",
       "        [ 45,  30,  25,   5,  20,  45,  60,  25,  10,  75],\n",
       "        [  9,   6,   5,   1,   4,   9,  12,   5,   2,  15],\n",
       "        [ 36,  24,  20,   4,  16,  36,  48,  20,   8,  60],\n",
       "        [ 81,  54,  45,   9,  36,  81, 108,  45,  18, 135],\n",
       "        [108,  72,  60,  12,  48, 108, 144,  60,  24, 180],\n",
       "        [ 45,  30,  25,   5,  20,  45,  60,  25,  10,  75],\n",
       "        [ 18,  12,  10,   2,   8,  18,  24,  10,   4,  30],\n",
       "        [135,  90,  75,  15,  60, 135, 180,  75,  30, 225]])"
      ]
     },
     "execution_count": 4,
     "metadata": {},
     "output_type": "execute_result"
    }
   ],
   "source": [
    "matrix"
   ]
  },
  {
   "cell_type": "code",
   "execution_count": 5,
   "id": "8cc18cd4-7c06-4d32-9ef3-d33e9d8ade20",
   "metadata": {},
   "outputs": [
    {
     "name": "stderr",
     "output_type": "stream",
     "text": [
      "Iterations:   0%|                                     | 0/10000 [00:00<?, ?it/s]\n",
      "Bifurcated agents:   0%|                                | 0/128 [00:00<?, ?it/s]\u001b[A\n",
      "Iterations:  55%|████████████▋          | 5500/10000 [00:00<00:00, 42504.17it/s]\u001b[A\n",
      "Bifurcated agents: 100%|█████████████████████| 128/128 [00:00<00:00, 996.27it/s]\n"
     ]
    }
   ],
   "source": [
    "spins, energy = sb.minimize(matrix, input_type='spin', ballistic=True)\n",
    "mask = spins == 1\n",
    "groups = (S[mask], S[~mask])"
   ]
  },
  {
   "cell_type": "code",
   "execution_count": 6,
   "id": "3cbcddb1-c24b-4a07-987e-c01426aa40ff",
   "metadata": {},
   "outputs": [
    {
     "data": {
      "text/plain": [
       "((tensor([[ 5],\n",
       "          [ 1],\n",
       "          [ 9],\n",
       "          [12],\n",
       "          [ 5],\n",
       "          [ 2]]),\n",
       "  tensor([[ 9],\n",
       "          [ 6],\n",
       "          [ 4],\n",
       "          [15]])),\n",
       " tensor([-1., -1.,  1.,  1., -1.,  1.,  1.,  1.,  1., -1.]),\n",
       " 0.0)"
      ]
     },
     "execution_count": 6,
     "metadata": {},
     "output_type": "execute_result"
    }
   ],
   "source": [
    "groups, spins, energy"
   ]
  },
  {
   "attachments": {
    "024594ac-36b2-4f29-8b17-3f788e186c44.png": {
     "image/png": "[encoded data removed]"
    },
    "56f783af-2f34-4076-8062-3f0f4925b4ce.png": {
     "image/png": "[encoded data removed]"
    },
    "cd0ffba2-738c-4897-b2ec-480d57af9ca6.png": {
     "image/png": "[encoded data removed]"
    }
   },
   "cell_type": "markdown",
   "id": "0dcbc69e-3b82-4b2d-aa01-b74bd686f5f3",
   "metadata": {},
   "source": [
    "# Graph Partition\n",
    "\n",
    "[See this blog](https://medium.com/arnaldo-gunzi-quantum/example-of-the-problem-of-graph-partitioning-using-the-ising-model-14a149074264)\n",
    "\n",
    "Imagine that you have 4 vertices, `V = [\"A\", \"B\", \"C\", \"D\"]`, with some edges between them. Is there a way to divide the 4 vertices into 2 groups so that there are an even number of vertices in each group while breaking as few edges as possible?\n",
    "\n",
    "![image.png](attachment:024594ac-36b2-4f29-8b17-3f788e186c44.png)\n",
    "\n",
    "One solution might be:\n",
    "\n",
    "![image.png](attachment:cd0ffba2-738c-4897-b2ec-480d57af9ca6.png)\n",
    "\n",
    "This results in 3 broken edges. Alternatively, we can do:\n",
    "\n",
    "![image.png](attachment:56f783af-2f34-4076-8062-3f0f4925b4ce.png)\n",
    "\n",
    "and this also breaks 3 edges too (the BC, despite crossing the drawing, is not broken. It is as if it were on another plane!)."
   ]
  },
  {
   "cell_type": "markdown",
   "id": "eca86b9e-44dc-43d0-a57a-7eb2e57e0bff",
   "metadata": {},
   "source": [
    "$$H = H_A + H_B$$\n",
    "$$H = A(\\sum_{i=1}^{N}s_i)^2  + H_B$$\n",
    "$$H = A(\\sum_{i=1}^{N}s_i)(\\sum_{i=1}^{N}s_i) + H_B$$\n",
    "$$H = A(s^T\\mathbb{1})(\\mathbb{1}^Ts) + H_B$$\n",
    "$$H = As^T(\\mathbb{1}\\mathbb{1}^T)s + H_B$$\n",
    "$$H = s^T(A\\mathbb{1}\\mathbb{1}^T)s + H_B$$\n",
    "$$H = s^TAs + H_B$$\n",
    "$$H = s^TAs + B\\sum_{(uv) \\in E}\\frac{1-s_{u}s_{v}}{2}$$\n",
    "$$H = s^TAs + \\frac{B}{2}\\sum_{(uv) \\in E}1-s_{u}s_{v}$$\n",
    "$$H = s^TAs + \\frac{B}{2}\\sum_{(uv) \\in E}1-\\frac{B}{2}\\sum_{(uv) \\in E}s_{u}s_{v}$$\n",
    "$$H = s^TAs + \\frac{B}{2}\\sum_{(uv) \\in E}1-\\frac{B}{2}\\sum_{u=1}^{N}\\sum_{v=1}^{N}G_{u,v}s_{u}s_{v}$$\n",
    "$$H = s^TAs + \\frac{B}{2}\\sum_{(uv) \\in E}1-\\frac{B}{2}\\sum_{u=1}^{N}s_{u}\\sum_{v=1}^{N}G_{u,v}s_{v}$$\n",
    "$$H = s^TAs + \\frac{B}{2}\\sum_{(uv) \\in E}1-\\frac{B}{2}s^TGs$$\n",
    "\n",
    "Note that $\\frac{B}{2}\\sum_{(uv) \\in E}1$ is constant and can be omitted since minimizing a constant is pointless since it will be zero."
   ]
  },
  {
   "cell_type": "code",
   "execution_count": 7,
   "id": "ae3f5069-d94e-4fb7-a43f-2292aac47cc9",
   "metadata": {},
   "outputs": [
    {
     "data": {
      "text/plain": [
       "tensor([[1.0000, 0.5000, 0.5000, 0.5000],\n",
       "        [0.5000, 1.0000, 0.5000, 1.0000],\n",
       "        [0.5000, 0.5000, 1.0000, 0.5000],\n",
       "        [0.5000, 1.0000, 0.5000, 1.0000]])"
      ]
     },
     "execution_count": 7,
     "metadata": {},
     "output_type": "execute_result"
    }
   ],
   "source": [
    "A = 1\n",
    "B = 1\n",
    "matrix = A * torch.ones((4,4)) - (B/2) *torch.tensor([[0, 1, 1, 1],\n",
    "                                                      [1, 0, 1, 0],\n",
    "                                                      [1, 1, 0, 1],\n",
    "                                                      [1, 0, 1, 0]])\n",
    "matrix"
   ]
  },
  {
   "cell_type": "code",
   "execution_count": 8,
   "id": "89d16cf1-c4ab-468a-8483-50f5132abc04",
   "metadata": {},
   "outputs": [
    {
     "name": "stderr",
     "output_type": "stream",
     "text": [
      "Iterations:   0%|                                     | 0/10000 [00:00<?, ?it/s]\n",
      "Iterations:  34%|███████▊               | 3400/10000 [00:00<00:00, 37241.13it/s]\u001b[A\n",
      "Bifurcated agents: 100%|████████████████████| 128/128 [00:00<00:00, 1673.16it/s]\n"
     ]
    }
   ],
   "source": [
    "spins, energy = sb.minimize(matrix, input_type='spin', ballistic=True)"
   ]
  },
  {
   "cell_type": "code",
   "execution_count": 9,
   "id": "2e9e4731-ce00-4680-89d1-b488dc67f0cf",
   "metadata": {},
   "outputs": [
    {
     "data": {
      "text/plain": [
       "(tensor([ 1.,  1., -1., -1.]), 1.0)"
      ]
     },
     "execution_count": 9,
     "metadata": {},
     "output_type": "execute_result"
    }
   ],
   "source": [
    "spins, energy"
   ]
  },
  {
   "cell_type": "markdown",
   "id": "89911f7c-f5b7-463b-9c3d-756c385cca3f",
   "metadata": {},
   "source": [
    "# Binary Integer Linear Programming"
   ]
  },
  {
   "cell_type": "markdown",
   "id": "33d40902-cbfd-408c-8fd0-8b038617a642",
   "metadata": {},
   "source": [
    "# QUBO\n",
    "\n",
    "[See section 2 of this paper](https://arxiv.org/pdf/1811.11538.pdf)\n",
    "\n",
    "Minimize $y=-5x_1-3x_2-8x_3-6x_4+4x_1x_2+8x_1x_3+2x_2x_3+10x_3x_4$\n",
    "\n",
    "Translated to sympy, we get:"
   ]
  },
  {
   "cell_type": "code",
   "execution_count": 10,
   "id": "f039d01b-bbe2-407d-a964-91fbdf8a3eef",
   "metadata": {},
   "outputs": [
    {
     "data": {
      "text/plain": [
       "(x0, x1, x2, x3, x4)"
      ]
     },
     "execution_count": 10,
     "metadata": {},
     "output_type": "execute_result"
    }
   ],
   "source": [
    "x = symbols('x(:5)')\n",
    "x"
   ]
  },
  {
   "cell_type": "code",
   "execution_count": 11,
   "id": "d1f4e00d-85db-4ebc-ae73-e1cadb879549",
   "metadata": {},
   "outputs": [],
   "source": [
    "# polynomial ring of symbolic coefficients\n",
    "R = QQ[x[1:]]"
   ]
  },
  {
   "cell_type": "code",
   "execution_count": 12,
   "id": "9b61903b-2bcf-464d-855c-2fde2354d1f5",
   "metadata": {},
   "outputs": [
    {
     "data": {
      "text/latex": [
       "$\\displaystyle 4 x_{1} x_{2} + 8 x_{1} x_{3} - 5 x_{1} + 2 x_{2} x_{3} - 3 x_{2} + 10 x_{3} x_{4} - 8 x_{3} - 6 x_{4}$"
      ],
      "text/plain": [
       "4*x1*x2 + 8*x1*x3 - 5*x1 + 2*x2*x3 - 3*x2 + 10*x3*x4 - 8*x3 - 6*x4"
      ]
     },
     "execution_count": 12,
     "metadata": {},
     "output_type": "execute_result"
    }
   ],
   "source": [
    "model = R(-5*x[1]\n",
    "             -3*x[2]\n",
    "             -8*x[3]\n",
    "             -6*x[4]\n",
    "             +4*x[1]*x[2]\n",
    "             +8*x[1]*x[3]\n",
    "             +2*x[2]*x[3]\n",
    "             +10*x[3]*x[4]\n",
    "            )\n",
    "model"
   ]
  },
  {
   "cell_type": "code",
   "execution_count": 13,
   "id": "454764f9-0851-4fc4-bcdd-36fb6338f30a",
   "metadata": {},
   "outputs": [
    {
     "data": {
      "text/plain": [
       "tensor([[-5.,  2.,  4.,  0.],\n",
       "        [ 2., -3.,  1.,  0.],\n",
       "        [ 4.,  1., -8.,  5.],\n",
       "        [ 0.,  0.,  5., -6.]], dtype=torch.float64)"
      ]
     },
     "execution_count": 13,
     "metadata": {},
     "output_type": "execute_result"
    }
   ],
   "source": [
    "Q, constant = poly_to_Q(model)\n",
    "Q"
   ]
  },
  {
   "cell_type": "code",
   "execution_count": 14,
   "id": "0a9c4605-024f-40e3-b58e-aef4e708c1f4",
   "metadata": {},
   "outputs": [
    {
     "name": "stderr",
     "output_type": "stream",
     "text": [
      "Iterations:   0%|                                     | 0/10000 [00:00<?, ?it/s]\n",
      "Iterations:  32%|███████▍               | 3250/10000 [00:00<00:00, 46475.63it/s]\u001b[A\n",
      "Bifurcated agents: 100%|████████████████████| 128/128 [00:00<00:00, 1846.85it/s]\n"
     ]
    },
    {
     "data": {
      "text/plain": [
       "(tensor([1., 0., 0., 1.]), -11.0)"
      ]
     },
     "execution_count": 14,
     "metadata": {},
     "output_type": "execute_result"
    }
   ],
   "source": [
    "spins, energy = sb.minimize(Q, input_type='binary', ballistic=True)\n",
    "spins, energy"
   ]
  },
  {
   "cell_type": "markdown",
   "id": "8a86ad82-eabe-4c24-a52a-b64565a09b7b",
   "metadata": {},
   "source": [
    "# The Number Partitioning Problem\n",
    "\n",
    "[See section 3.1](https://arxiv.org/pdf/1811.11538.pdf)\n",
    "\n",
    "$$\\text{diff}^2=\\{ c-2\\sum_{j=1}^{m}s_jx_j \\}^2,\\;\\; \\text{where } c=\\sum_{j=1}^m s_j$$\n",
    "$$\\text{diff}^2=c^2 - 4c\\sum_{j=1}^{m}s_jx_j + \\left(2\\sum_{j=1}^{m}s_jx_j\\right)^2 $$\n",
    "$$\\text{diff}^2=c^2 -4c\\sum_{j=1}^{m}s_jx_j + 4\\left(\\sum_{j=1}^{m}s_jx_j\\right)^2 $$\n",
    "$$\\text{diff}^2=c^2 -4\\left( c\\sum_{j=1}^{m}s_jx_j + \\left(\\sum_{j=1}^{m}s_jx_j\\right)^2\\right)$$\n",
    "$$\\text{diff}^2=c^2 +4\\left( \\left(\\sum_{j=1}^{m}s_jx_j\\right)^2 - c\\sum_{j=1}^{m}s_jx_j \\right)$$\n",
    "$$\\text{diff}^2=c^2 +4\\left( \\left(\\sum_{j=1}^{m}s_jx_j\\right)\\left(\\sum_{j=1}^{m}s_jx_j\\right) - c\\sum_{j=1}^{m}s_jx_j \\right)$$\n",
    "$$\\text{diff}^2=c^2 +4\\left( \\left(\\sum_{j=1}^{m}s_j^2x_j^2\\right)+\\left(\\sum_{\\text{cyc}, k \\neq l}^{m}s_kx_ks_lx_l\\right) - c\\sum_{j=1}^{m}s_jx_j \\right)$$\n",
    "$$\\text{diff}^2=c^2 +4\\left( \\sum_{j=1}^{m}s_j^2x_j^2 - c\\sum_{j=1}^{m}s_jx_j  + \\sum_{\\text{cyc}, k \\neq l}^{m}s_kx_ks_lx_l\\right) $$\n",
    "$$\\text{diff}^2=c^2 +4\\left( \\sum_{j=1}^{m}s_j^2x_j^2 - c\\sum_{j=1}^{m}s_jx_j^2  + \\sum_{\\text{cyc}, k \\neq l}^{m}s_kx_ks_lx_l\\right), \\;\\; \\because x_j=x_j^2 \\;\\; \\text{(See bullet 2. in Section 2)}$$\n",
    "$$\\text{diff}^2=c^2 +4\\left( \\sum_{j=1}^{m}s_jx_j^2\\left( s_j - c \\right) + \\sum_{\\text{cyc}, k \\neq l}^{m}s_kx_ks_lx_l\\right) $$\n",
    "$$\\text{diff}^2=c^2 +4\\left( \\sum_{j=1}^{m}s_jx_j\\left( s_j - c \\right)x_j + \\sum_{\\text{cyc}, k \\neq l}^{m}s_kx_ks_lx_l\\right) $$\n",
    "$$\\text{diff}^2=c^2 +4\\left( \\sum_{j=1}^{m}x_js_j\\left( s_j - c \\right)x_j + \\sum_{\\text{cyc}, k \\neq l}^{m}x_ks_ks_lx_l\\right) $$\n",
    "$$\\text{diff}^2=c^2 +4x^TQx $$\n",
    "$$\\text{where the diagonal elements of }Q\\;\\text{are}\\;\\; q_{ii}=s_i(s_i-c),\\;\\;$$\n",
    "$$\\text{and the off-diagonal elements of }Q\\;\\text{are}\\;\\; q_{ij}=s_is_j$$\n",
    "\n",
    "Dropping the additive and multiplicative constants, our QUBO optimization problem becomes:\n",
    "\n",
    "$$\\text{QUBO: min } y=x^tQx$$"
   ]
  },
  {
   "cell_type": "markdown",
   "id": "9b34e2f7-149d-463c-8e5e-1d31064ec29d",
   "metadata": {},
   "source": [
    "# Numerical Example\n",
    "\n",
    "Consider the set of eight numbers\n",
    "\n",
    "$$S=\\{25,7,13,31,42,17,21,10\\}$$"
   ]
  },
  {
   "cell_type": "code",
   "execution_count": 15,
   "id": "8a6b5d4d-d085-42a3-950f-17fa60bd0913",
   "metadata": {},
   "outputs": [
    {
     "data": {
      "text/plain": [
       "tensor([[-3525,   175,   325,   775,  1050,   425,   525,   250],\n",
       "        [  175, -1113,    91,   217,   294,   119,   147,    70],\n",
       "        [  325,    91, -1989,   403,   546,   221,   273,   130],\n",
       "        [  775,   217,   403, -4185,  1302,   527,   651,   310],\n",
       "        [ 1050,   294,   546,  1302, -5208,   714,   882,   420],\n",
       "        [  425,   119,   221,   527,   714, -2533,   357,   170],\n",
       "        [  525,   147,   273,   651,   882,   357, -3045,   210],\n",
       "        [  250,    70,   130,   310,   420,   170,   210, -1560]])"
      ]
     },
     "execution_count": 15,
     "metadata": {},
     "output_type": "execute_result"
    }
   ],
   "source": [
    "S = torch.tensor([25,7,13,31,42,17,21,10]).unsqueeze(1)\n",
    "c = torch.sum(S)\n",
    "Q = S @ S.t()\n",
    "Q[range(len(S)), range(len(S))]=(S * (S - c)).squeeze()  # Fill diagonal\n",
    "Q"
   ]
  },
  {
   "cell_type": "code",
   "execution_count": 16,
   "id": "bff61716-f53f-431e-a2c4-fc29d205cb7c",
   "metadata": {},
   "outputs": [
    {
     "name": "stderr",
     "output_type": "stream",
     "text": [
      "Iterations:   0%|                                     | 0/10000 [00:00<?, ?it/s]\n",
      "Iterations:  40%|█████████▏             | 4000/10000 [00:00<00:00, 41981.03it/s]\u001b[A\n",
      "Bifurcated agents: 100%|████████████████████| 128/128 [00:00<00:00, 1395.49it/s]\n"
     ]
    },
    {
     "data": {
      "text/plain": [
       "(tensor([0., 1., 1., 0., 1., 0., 1., 0.]), -6889.0)"
      ]
     },
     "execution_count": 16,
     "metadata": {},
     "output_type": "execute_result"
    }
   ],
   "source": [
    "spins, energy = sb.minimize(Q, input_type='binary', ballistic=True)\n",
    "spins, energy"
   ]
  },
  {
   "cell_type": "markdown",
   "id": "c84db748-0f29-4e3e-b52c-62bae706fc1a",
   "metadata": {},
   "source": [
    "# The Max-Cut Problem\n",
    "\n",
    "[See section 3.2](https://arxiv.org/pdf/1811.11538.pdf)\n",
    "\n",
    "The problem of maximizing the number of edges in the cut can be formulated as:\n",
    "\n",
    "$$\\text{Maximize }y=\\sum_{(i,j) \\in E}\\left( x_i+x_j-2x_ix_j\\right) $$\n",
    "\n",
    "which is an instance of\n",
    "\n",
    "$$\\text{QUBO: max }y=x^tQx$$\n",
    "\n",
    "The linear terms determine the elements of the main diagonal of $Q$ and the quadratic terms determine the off-diagonal elements."
   ]
  },
  {
   "attachments": {
    "0dc5afd5-7b22-4e05-858c-897ee84ae6ae.png": {
     "image/png": "[encoded data removed]"
    }
   },
   "cell_type": "markdown",
   "id": "8af9570d-0786-44cc-b9ec-1afca8c5546e",
   "metadata": {},
   "source": [
    "# Numerical Example\n",
    "\n",
    "Consider the following undirected graph with 5 vertices and 6 edges:\n",
    "\n",
    "![image.png](attachment:0dc5afd5-7b22-4e05-858c-897ee84ae6ae.png)\n",
    "\n",
    "Explicitly taking account all of the edges in the graph gives the following formulation:\n",
    "\n",
    "$$\\begin{align}\n",
    "\\text{Maximize }y=\\left(x_1+x_2-2x_1x_2 \\right) + \\\\\n",
    "\\left( x_1+x_3-2x_1x_3 \\right) + \\\\\n",
    "\\left( x_2+x_4-2x_2x_4 \\right) + \\\\\n",
    "\\left( x_3+x_4-2x_3x_4 \\right) + \\\\\n",
    "\\left( x_3+x_5-2x_3x_5 \\right) + \\\\\n",
    "\\left( x_4+x_5-2x_4x_5\\right)\n",
    "\\end{align}\n",
    "$$\n",
    "\n",
    "or\n",
    "\n",
    "$$\\text{max }y=2x_1+2x_2+3x_3+3x_4+2x_5-2x_1x_2-2x_1x_3-2x_2x_4-2x_3x_4-2x_3x_5-2x_4x_5$$\n",
    "$$\\text{max }y=2x_1^2+2x_2^2+3x_3^2+3x_4^2+2x_5^2-2x_1x_2-2x_1x_3-2x_2x_4-2x_3x_4-2x_3x_5-2x_4x_5,\\;\\;\\;\\because x_i=x_i^2$$"
   ]
  },
  {
   "cell_type": "markdown",
   "id": "e402823b-d46f-4940-91b2-691733c59622",
   "metadata": {},
   "source": [
    "Translating to sympy gives:"
   ]
  },
  {
   "cell_type": "code",
   "execution_count": 17,
   "id": "299e5135-0469-4c0b-9d2c-27551c513c1c",
   "metadata": {},
   "outputs": [
    {
     "data": {
      "text/plain": [
       "(x0, x1, x2, x3, x4, x5)"
      ]
     },
     "execution_count": 17,
     "metadata": {},
     "output_type": "execute_result"
    }
   ],
   "source": [
    "x = symbols('x(:6)')\n",
    "x"
   ]
  },
  {
   "cell_type": "code",
   "execution_count": 18,
   "id": "5b64137a-8cbf-4ce4-a23f-90bc6c44b252",
   "metadata": {},
   "outputs": [],
   "source": [
    "# polynomial ring of symbolic coefficients\n",
    "R = QQ[x[1:]]"
   ]
  },
  {
   "cell_type": "code",
   "execution_count": 19,
   "id": "959657fe-7a56-4b4d-a0cf-f75ec284ebe1",
   "metadata": {},
   "outputs": [
    {
     "data": {
      "text/latex": [
       "$\\displaystyle -2 x_{1} x_{2} - 2 x_{1} x_{3} + 2 x_{1} - 2 x_{2} x_{4} + 2 x_{2} - 2 x_{3} x_{4} - 2 x_{3} x_{5} + 3 x_{3} - 2 x_{4} x_{5} + 3 x_{4} + 2 x_{5}$"
      ],
      "text/plain": [
       "-2*x1*x2 - 2*x1*x3 + 2*x1 - 2*x2*x4 + 2*x2 - 2*x3*x4 - 2*x3*x5 + 3*x3 - 2*x4*x5 + 3*x4 + 2*x5"
      ]
     },
     "execution_count": 19,
     "metadata": {},
     "output_type": "execute_result"
    }
   ],
   "source": [
    "model = R(x[1]+x[2]-2*x[1]*x[2]\n",
    "             +x[1]+x[3]-2*x[1]*x[3]\n",
    "             +x[2]+x[4]-2*x[2]*x[4]\n",
    "             +x[3]+x[4]-2*x[3]*x[4]\n",
    "             +x[3]+x[5]-2*x[3]*x[5]\n",
    "             +x[4]+x[5]-2*x[4]*x[5]\n",
    "            )\n",
    "model"
   ]
  },
  {
   "cell_type": "code",
   "execution_count": 20,
   "id": "3bf70d22-6e46-4471-8aee-1d625e2e1c81",
   "metadata": {},
   "outputs": [
    {
     "data": {
      "text/plain": [
       "tensor([[ 2., -1., -1.,  0.,  0.],\n",
       "        [-1.,  2.,  0., -1.,  0.],\n",
       "        [-1.,  0.,  3., -1., -1.],\n",
       "        [ 0., -1., -1.,  3., -1.],\n",
       "        [ 0.,  0., -1., -1.,  2.]], dtype=torch.float64)"
      ]
     },
     "execution_count": 20,
     "metadata": {},
     "output_type": "execute_result"
    }
   ],
   "source": [
    "Q, constant = poly_to_Q(model)\n",
    "Q"
   ]
  },
  {
   "cell_type": "code",
   "execution_count": 21,
   "id": "a563795d-c814-44ed-bd17-0f59e8db1345",
   "metadata": {},
   "outputs": [
    {
     "name": "stderr",
     "output_type": "stream",
     "text": [
      "Iterations:   0%|                                     | 0/10000 [00:00<?, ?it/s]\n",
      "Iterations:  46%|██████████▌            | 4600/10000 [00:00<00:00, 47691.53it/s]\u001b[A\n",
      "Bifurcated agents: 100%|████████████████████| 128/128 [00:00<00:00, 1337.72it/s]\n"
     ]
    },
    {
     "data": {
      "text/plain": [
       "(tensor([1., 0., 0., 1., 0.]), 5.0)"
      ]
     },
     "execution_count": 21,
     "metadata": {},
     "output_type": "execute_result"
    }
   ],
   "source": [
    "spins, energy = sb.maximize(Q, input_type='binary', ballistic=True)\n",
    "spins, energy"
   ]
  },
  {
   "cell_type": "markdown",
   "id": "e9f1c24d-1e57-415b-90b6-97a672fa99c2",
   "metadata": {},
   "source": [
    "# Creating QUBO Models Using Known Penalties\n",
    "\n",
    "|   | Classical Constraints | Equivalent Penalty     | Description                     |\n",
    "|---|-----------------------|------------------------|---------------------------------|\n",
    "| 1 | $x_i+x_j \\le 1$       | $P\\left(x_ix_j\\right)$ | Either $x_i$ OR $x_j$ or neither, not both |\n",
    "| 2 | $x_i+x_j \\ge 1$       | $P\\left(1-x_i-x_j+x_ix_j\\right)$ | At least one of $x_i$ OR $x_j$ |\n",
    "| 3 | $x_i+x_j = 1$       | $P\\left(1-x_i-x_j+2x_ix_j\\right)$ | Exactly only one of $x_i$ OR $x_j$ |\n",
    "| 4 | $x_i \\le x_j$       | $P\\left(x_i-x_ix_j\\right)$ |  |\n",
    "| 5 | $x_i + x_j + x_k \\le 1$       | $P\\left(x_ix_j+x_ix_k+x_jx_k\\right)$ |  |\n",
    "| 6 | $x_i=x_j$           | $P\\left( x_i+x_j-2x_ix_j\\right)$| |"
   ]
  },
  {
   "attachments": {
    "1ccadd35-d76b-4c4d-8f4d-ede29e7e05b6.png": {
     "image/png": "[encoded data removed]"
    }
   },
   "cell_type": "markdown",
   "id": "d239042d-3453-451a-aa16-d4c8298b327d",
   "metadata": {},
   "source": [
    "# The Minimum Vertex Cover (MVC) Problem\n",
    "\n",
    "[See section 4.1](https://arxiv.org/pdf/1811.11538.pdf)\n",
    "\n",
    "![download.png](attachment:1ccadd35-d76b-4c4d-8f4d-ede29e7e05b6.png)\n",
    "\n",
    "$$\\text{Minimize }y=\\sum_{j\\in V}x_j + P\\left( \\sum_{(i,j)\\in E}\\left(1-x_i-x_j+x_ix_j\\right)\\right)$$\n",
    "\n",
    "For this graph with $n=6$ and $m=5$ nodes, the model becomes:\n",
    "\n",
    "$$\n",
    "\\begin{align}\n",
    "\\text{Minimize }y&=x_1+x_2+x_3+x_4+x_5 \\\\\n",
    "&+ P\\left( 1-x_1-x_2+x_1x_2 \\right) \\\\\n",
    "&+ P\\left( 1-x_1-x_3+x_1x_3 \\right) \\\\\n",
    "&+ P\\left( 1-x_2-x_4+x_2x_4 \\right) \\\\\n",
    "&+ P\\left( 1-x_3-x_4+x_3x_4 \\right) \\\\\n",
    "&+ P\\left( 1-x_3-x_5+x_3x_5 \\right) \\\\\n",
    "&+ P\\left( 1-x_4-x_5+x_4x_5 \\right) \\\\\n",
    "\\end{align}\n",
    "$$\n",
    "\n",
    "which can be written as \n",
    "\n",
    "$$\n",
    "\\begin{align}\n",
    "\\text{Minimize }y&=\\left(1-2P\\right)x_1 +\n",
    "\\left(1-2P\\right)x_2 + \n",
    "\\left(1-3P\\right)x_3 +\n",
    "\\left(1-3P\\right)x_4 + \n",
    "\\left(1-2P\\right)x_5 \\\\\n",
    "&+ Px_1x_2 + Px_1x_3 + Px_2x_4 + Px_3x_5 + Px_4x_5 + 6P \\\\\n",
    "&=\\left(1-2P\\right)x_1^2 +\n",
    "\\left(1-2P\\right)x_2^2 + \n",
    "\\left(1-3P\\right)x_3^2 +\n",
    "\\left(1-3P\\right)x_4^2 + \n",
    "\\left(1-2P\\right)x_5^2\\\\\n",
    "&+ Px_1x_2 + Px_1x_3 + Px_2x_4 + Px_3x_5 + Px_4x_5 + 6P\n",
    "\\end{align}\n",
    "$$\n",
    "\n",
    "Arbitarily choosing $P=8$ and dropping the additive constant $\\left( 6P=48\\right)$ gives our QUBO model:\n",
    "\n",
    "$$\\text{QUBO: min}x^tQx$$\n",
    "\n",
    "with the $Q$ matrix translated to sympy as:"
   ]
  },
  {
   "cell_type": "code",
   "execution_count": 22,
   "id": "520ff4ca-50c1-4a10-bc79-6662bc9db8b2",
   "metadata": {},
   "outputs": [
    {
     "data": {
      "text/plain": [
       "((x0, x1, x2, x3, x4, x5), P)"
      ]
     },
     "execution_count": 22,
     "metadata": {},
     "output_type": "execute_result"
    }
   ],
   "source": [
    "x, P = symbols('x(:6)'), symbols('P')\n",
    "x, P"
   ]
  },
  {
   "cell_type": "code",
   "execution_count": 23,
   "id": "76691322-517e-41fe-9f3f-f144541ebe49",
   "metadata": {},
   "outputs": [],
   "source": [
    "# polynomial ring of symbolic coefficients\n",
    "R = QQ[x[1:]+(P,)]"
   ]
  },
  {
   "cell_type": "code",
   "execution_count": 24,
   "id": "75b07962-e56a-4436-af80-90c4285c9e64",
   "metadata": {},
   "outputs": [
    {
     "data": {
      "text/latex": [
       "$\\displaystyle x_{1} x_{2} P + x_{1} x_{3} P - 2 x_{1} P + x_{1} + x_{2} x_{4} P - 2 x_{2} P + x_{2} + x_{3} x_{4} P + x_{3} x_{5} P - 3 x_{3} P + x_{3} + x_{4} x_{5} P - 3 x_{4} P + x_{4} - 2 x_{5} P + x_{5} + 6 P$"
      ],
      "text/plain": [
       "x1*x2*P + x1*x3*P - 2*x1*P + x1 + x2*x4*P - 2*x2*P + x2 + x3*x4*P + x3*x5*P - 3*x3*P + x3 + x4*x5*P - 3*x4*P + x4 - 2*x5*P + x5 + 6*P"
      ]
     },
     "execution_count": 24,
     "metadata": {},
     "output_type": "execute_result"
    }
   ],
   "source": [
    "model = R(x[1]+x[2]+x[3]+x[4]+x[5]\n",
    "          +P*(1-x[1]-x[2]+x[1]*x[2])\n",
    "          +P*(1-x[1]-x[3]+x[1]*x[3])\n",
    "          +P*(1-x[2]-x[4]+x[2]*x[4])\n",
    "          +P*(1-x[3]-x[4]+x[3]*x[4])\n",
    "          +P*(1-x[3]-x[5]+x[3]*x[5])\n",
    "          +P*(1-x[4]-x[5]+x[4]*x[5])\n",
    "         )\n",
    "model"
   ]
  },
  {
   "cell_type": "code",
   "execution_count": 25,
   "id": "a97bd462-3162-4b92-9426-1ce6565c0f6e",
   "metadata": {},
   "outputs": [
    {
     "name": "stderr",
     "output_type": "stream",
     "text": [
      "/var/folders/cc/95f7218n54l6mb7jmsyzvssr0000gn/T/ipykernel_33071/1937982928.py:16: UserWarning: Symbol \"P\" was dropped from the model\n",
      "  warnings.warn(f'Symbol \"{str(gen)}\" was dropped from the model')\n"
     ]
    },
    {
     "data": {
      "text/plain": [
       "tensor([[-15.,   4.,   4.,   0.,   0.],\n",
       "        [  4., -15.,   0.,   4.,   0.],\n",
       "        [  4.,   0., -23.,   4.,   4.],\n",
       "        [  0.,   4.,   4., -23.,   4.],\n",
       "        [  0.,   0.,   4.,   4., -15.]], dtype=torch.float64)"
      ]
     },
     "execution_count": 25,
     "metadata": {},
     "output_type": "execute_result"
    }
   ],
   "source": [
    "Q, constant = poly_to_Q(model.subs(R(P), 8))\n",
    "Q"
   ]
  },
  {
   "cell_type": "code",
   "execution_count": 26,
   "id": "70cd6029-f8d8-4e4e-a439-bd16cbd6f6cb",
   "metadata": {},
   "outputs": [
    {
     "name": "stderr",
     "output_type": "stream",
     "text": [
      "Iterations:   0%|                                     | 0/10000 [00:00<?, ?it/s]\n",
      "Iterations:  34%|███████▋               | 3350/10000 [00:00<00:00, 45790.69it/s]\u001b[A\n",
      "Bifurcated agents: 100%|████████████████████| 128/128 [00:00<00:00, 1759.30it/s]\n"
     ]
    },
    {
     "data": {
      "text/plain": [
       "(tensor([1., 0., 1., 1., 0.]), -45.0)"
      ]
     },
     "execution_count": 26,
     "metadata": {},
     "output_type": "execute_result"
    }
   ],
   "source": [
    "spins, energy = sb.minimize(Q, input_type='binary', ballistic=True)\n",
    "spins, energy"
   ]
  },
  {
   "cell_type": "code",
   "execution_count": 27,
   "id": "57100ab5-7df4-40dc-88bd-9d64ec7532d4",
   "metadata": {},
   "outputs": [
    {
     "data": {
      "text/plain": [
       "3.0"
      ]
     },
     "execution_count": 27,
     "metadata": {},
     "output_type": "execute_result"
    }
   ],
   "source": [
    "y = constant + energy\n",
    "y"
   ]
  },
  {
   "cell_type": "markdown",
   "id": "15ab2200-dc30-499c-a504-bad798685993",
   "metadata": {},
   "source": [
    "Note that since we've ignored the additive constant, $6P=48$, during our optimization, we need to add it back to the final energy in order to get the correct value of $y = -45 + 48 = 3$\n",
    "\n",
    "Also, notice that we add the penalty terms to the objective function (rather than subtract it) since we are minimizing the objective function. In the case where we need to maximize the objective function (see set packing below), we would subtract the penalty terms."
   ]
  },
  {
   "cell_type": "markdown",
   "id": "788242d8-5c16-429a-965e-a143a115172d",
   "metadata": {},
   "source": [
    "# The Set Packing Problem\n",
    "\n",
    "* [See section 4.2](https://arxiv.org/pdf/1811.11538.pdf)\n",
    "* See also [A new approach for modeling and solving set packing problems](https://www.researchgate.net/publication/4939938_A_new_approach_for_modeling_and_solving_set_packing_problems)\n",
    "\n",
    "The general (traditional) formulation is given by:\n",
    "\n",
    "$$\n",
    "\\begin{align}\n",
    "\\text{max }\\sum_{j=1}^n w_jx_j \\\\\n",
    "\\text{st }\\;\\sum_{j=1}^na_{ij}x_j \\le 1 \\\\\n",
    "\\end{align}\n",
    "$$\n",
    "\n",
    "where $a_{ij}$ are 0/1 coefficients, the $w_j$ are weights, and the $x_j$ variables are binary. Using the penalties of the form shown in the first and fifth rows of the table given earlier, we can easily construct a quadratic penalty corresponding to each of the constraints in the traditional model. Then by subtracting the penalties from the objective function, we have an unconstrained representation of the problem in the form of a QUBO model. \n",
    "\n",
    "# Numerical Example\n",
    "\n",
    "$$\n",
    "\\begin{align}\n",
    "\\text{max }x_1+x_2+x_3+x_4 \\\\\n",
    "\\text{st }\\;x_1\\;\\;\\;\\;+x_3+x_4 \\le 1 \\\\\n",
    "x_1+x_2\\;\\;\\;\\;\\le 1\n",
    "\\end{align}\n",
    "$$\n",
    "\n",
    "Here all the objective function coefficients, the $w_j$ values, are equal to 1. Using the penalties mentioned above, the equivalent unconstrained problem is:\n",
    "\n",
    "$$\\text{max } x_1+x_2+x_3+x_4-Px_1x_3-Px_1x_4-Px_3x_4-Px_1x_2$$\n",
    "\n",
    "This has our customary QUBO form:\n",
    "\n",
    "$$\\text{QUBO: max }x^tQx$$\n",
    "\n",
    "where the $Q$ matrix, with $P$ arbitrarily chosen to be 6 (note that we split the total penalty and distribute it equally between the two corresponding off-diagonal (i.e., $i \\ne j$) terms $q_{ij} = -M$ and $q_{ji} = -M$), is translated to sympy as:"
   ]
  },
  {
   "cell_type": "code",
   "execution_count": 28,
   "id": "8f682d4d-23cc-4de3-98ee-79e55819a7b8",
   "metadata": {},
   "outputs": [
    {
     "data": {
      "text/plain": [
       "((x0, x1, x2, x3, x4), P)"
      ]
     },
     "execution_count": 28,
     "metadata": {},
     "output_type": "execute_result"
    }
   ],
   "source": [
    "x, P = sympy.symbols('x(:5)'), sympy.symbols('P')\n",
    "x, P"
   ]
  },
  {
   "cell_type": "code",
   "execution_count": 29,
   "id": "0eb9a36f-7036-425f-912c-5fece4ce0f23",
   "metadata": {},
   "outputs": [],
   "source": [
    "# polynomial ring of symbolic coefficients\n",
    "R = QQ[x[1:]+(P,)]"
   ]
  },
  {
   "cell_type": "code",
   "execution_count": 30,
   "id": "0f75e8bd-aab4-4049-acba-ba78a6c78f7f",
   "metadata": {},
   "outputs": [
    {
     "data": {
      "text/latex": [
       "$\\displaystyle -x_{1} x_{2} P - x_{1} x_{3} P - x_{1} x_{4} P + x_{1} + x_{2} - x_{3} x_{4} P + x_{3} + x_{4}$"
      ],
      "text/plain": [
       "-x1*x2*P - x1*x3*P - x1*x4*P + x1 + x2 - x3*x4*P + x3 + x4"
      ]
     },
     "execution_count": 30,
     "metadata": {},
     "output_type": "execute_result"
    }
   ],
   "source": [
    "model = R(x[1]+x[2]+x[3]+x[4]\n",
    "          -P*x[1]*x[3]\n",
    "          -P*x[1]*x[4]\n",
    "          -P*x[3]*x[4]\n",
    "          -P*x[1]*x[2]\n",
    "         )\n",
    "model"
   ]
  },
  {
   "cell_type": "code",
   "execution_count": 31,
   "id": "d99dc0f8-a7ac-4b70-a570-9c8bbc37612d",
   "metadata": {},
   "outputs": [
    {
     "name": "stderr",
     "output_type": "stream",
     "text": [
      "/var/folders/cc/95f7218n54l6mb7jmsyzvssr0000gn/T/ipykernel_33071/1937982928.py:16: UserWarning: Symbol \"P\" was dropped from the model\n",
      "  warnings.warn(f'Symbol \"{str(gen)}\" was dropped from the model')\n"
     ]
    },
    {
     "data": {
      "text/plain": [
       "tensor([[ 1., -3., -3., -3.],\n",
       "        [-3.,  1.,  0.,  0.],\n",
       "        [-3.,  0.,  1., -3.],\n",
       "        [-3.,  0., -3.,  1.]], dtype=torch.float64)"
      ]
     },
     "execution_count": 31,
     "metadata": {},
     "output_type": "execute_result"
    }
   ],
   "source": [
    "Q, constant = poly_to_Q(model.subs(R(P), 6))\n",
    "Q"
   ]
  },
  {
   "cell_type": "code",
   "execution_count": 32,
   "id": "ee10050c-96c8-496e-bbc4-8406521f5bdf",
   "metadata": {},
   "outputs": [
    {
     "name": "stderr",
     "output_type": "stream",
     "text": [
      "Iterations:   0%|                                     | 0/10000 [00:00<?, ?it/s]\n",
      "Iterations:  35%|████████               | 3500/10000 [00:00<00:00, 45308.00it/s]\u001b[A\n",
      "Bifurcated agents: 100%|████████████████████| 128/128 [00:00<00:00, 1667.51it/s]\n"
     ]
    },
    {
     "data": {
      "text/plain": [
       "(tensor([0., 1., 1., 0.]), 2.0)"
      ]
     },
     "execution_count": 32,
     "metadata": {},
     "output_type": "execute_result"
    }
   ],
   "source": [
    "spins, energy = sb.maximize(Q, input_type='binary', ballistic=True)\n",
    "spins, energy"
   ]
  },
  {
   "cell_type": "code",
   "execution_count": 33,
   "id": "d9823422-13e8-42cb-95d8-d2a351ceeaba",
   "metadata": {},
   "outputs": [
    {
     "data": {
      "text/plain": [
       "2.0"
      ]
     },
     "execution_count": 33,
     "metadata": {},
     "output_type": "execute_result"
    }
   ],
   "source": [
    "y = constant + energy\n",
    "y"
   ]
  },
  {
   "cell_type": "markdown",
   "id": "0b2402ac-9d79-4ff2-a6a4-f2b1a0e34f0d",
   "metadata": {},
   "source": [
    "Note that unlike the MVC problem above, which is a minimization, the penalty terms are subtracted from the objective function for set packing since it is a maximization problem. Additionally, we can show that the $Q$ matrix does not have to be symmetrical as long as the coefficient for each $x_ix_j$ off-diagonal term satisfies $q_{ij}+q_{ji}=\\text{coefficient}$. In other words, our $Q$ matrix will produce the exact same energy if it looked like:"
   ]
  },
  {
   "cell_type": "code",
   "execution_count": 34,
   "id": "3259f442-b815-4af9-8ff0-eaf08afaffad",
   "metadata": {},
   "outputs": [
    {
     "data": {
      "text/plain": [
       "tensor([[ 1, -6, -6, -6],\n",
       "        [ 0,  1,  0,  0],\n",
       "        [ 0,  0,  1, -6],\n",
       "        [ 0,  0,  0,  1]])"
      ]
     },
     "execution_count": 34,
     "metadata": {},
     "output_type": "execute_result"
    }
   ],
   "source": [
    "torch.tensor([[1, -6, -6, -6],\n",
    "              [0,  1,  0,  0],\n",
    "              [0,  0,  1, -6],\n",
    "              [0,  0,  0,  1]\n",
    "            ])"
   ]
  },
  {
   "cell_type": "markdown",
   "id": "44e9155c-f9b6-46b1-9bae-af283facec31",
   "metadata": {},
   "source": [
    "Notice how this looks much more recognizable when compared with $\\text{max } x_1+x_2+x_3+x_4-Px_1x_3-Px_1x_4-Px_3x_4-Px_1x_2$.\n",
    "To demonstrate this further, we can gradually shift the values in the lower-left half of the symmetrical $Q$ matrix into the upper-right half of the symmetrical matrix and compare the energies with the original symmetrical $Q$ matrix and see that the energy remains the same regardless of the spins:"
   ]
  },
  {
   "cell_type": "code",
   "execution_count": 35,
   "id": "07c6e6ab-5f6e-46f8-8bf9-d4bb7ce3b453",
   "metadata": {},
   "outputs": [],
   "source": [
    "# First permute all possible spin combinations for this 4-spin system\n",
    "n = Q.shape[0]\n",
    "a = np.arange(n)\n",
    "all_spins = []\n",
    "for r in range(n+1):\n",
    "    all_spins.extend([np.isin(a, x).tolist() for x in combinations(range(n), r=r)])\n",
    "all_spins = np.array(all_spins) + 0"
   ]
  },
  {
   "cell_type": "code",
   "execution_count": 36,
   "id": "c8f0dd7d-6dd0-407d-a209-bb5f2b08777f",
   "metadata": {},
   "outputs": [],
   "source": [
    "for spins in all_spins:\n",
    "    x = np.expand_dims(spins, axis=1)\n",
    "    ref = (x.T @ np.array(Q) @ x).item()\n",
    "    for i in range(101):  # gradually shift the values in the lower-left half into the upper-right half in 1% increments\n",
    "        Q_mod = np.tril(Q, k=-1)*(1.0 - i/100.) + np.diag(np.diag(Q)) + np.triu(Q, k=1)*(1.0 + i/100.)\n",
    "        cmp = (x.T @ Q_mod @ x).item()\n",
    "        npt.assert_almost_equal(ref, cmp, decimal=5)"
   ]
  },
  {
   "cell_type": "markdown",
   "id": "4e2d76bc-4b47-40d5-a4be-fe4b9dcd9fc2",
   "metadata": {},
   "source": [
    "Another similar numerical example is found in [Section 2 of this paper](https://www.researchgate.net/publication/4939938_A_new_approach_for_modeling_and_solving_set_packing_problems):\n",
    "\n",
    "$$\n",
    "\\begin{align}\n",
    "\\text{max }2x_1+2x_2+2x_3+2x_4+4.5x_5+3x_6 \\\\\n",
    "\\text{st }x_1+x_3 \\le 1 \\\\\n",
    "x_1+x_2 \\le 1 \\\\\n",
    "x_2+x_3+x_4 \\le 1 \\\\\n",
    "x_3+x_4 \\le 1 \\\\\n",
    "x_4+x_5 \\le 1 \\\\\n",
    "x_5+x_6 \\le 1\n",
    "\\end{align}\n",
    "$$\n",
    "\n",
    "which, along with the penalty terms, tranforms into:\n",
    "\n",
    "$$\n",
    "\\begin{align}\n",
    "\\text{max }2x_1+2x_2+2x_3+2x_4+4.5x_5+3x_6 \\\\\n",
    "-2Px_1x_3-2Px_1x_2-2Px_2x_3 -2Px_2x_4 -2Px_3x_4 -2Px_4x_5 -2Px_5x_6\n",
    "\\end{align}\n",
    "$$"
   ]
  },
  {
   "cell_type": "markdown",
   "id": "defdc42d-1f56-46bf-946b-3f9c094775b6",
   "metadata": {},
   "source": [
    "and translated to sympy as:"
   ]
  },
  {
   "cell_type": "code",
   "execution_count": 37,
   "id": "9d197ef0-8db3-460d-86f7-af4d2ce32196",
   "metadata": {},
   "outputs": [
    {
     "data": {
      "text/plain": [
       "((x0, x1, x2, x3, x4, x5, x6), P)"
      ]
     },
     "execution_count": 37,
     "metadata": {},
     "output_type": "execute_result"
    }
   ],
   "source": [
    "x, P = symbols('x(:7)'), symbols('P')\n",
    "x, P"
   ]
  },
  {
   "cell_type": "code",
   "execution_count": 38,
   "id": "bad7fbf3-6fe0-47b0-bdca-1153499d59ec",
   "metadata": {},
   "outputs": [],
   "source": [
    "# polynomial ring of symbolic coefficients\n",
    "R = QQ[x[1:]+(P,)]"
   ]
  },
  {
   "cell_type": "code",
   "execution_count": 39,
   "id": "8473a7b6-af02-4eb7-957e-73db2f2c7af7",
   "metadata": {},
   "outputs": [
    {
     "data": {
      "text/latex": [
       "$\\displaystyle -x_{1} x_{2} P - x_{1} x_{3} P + 2 x_{1} - x_{2} x_{3} P - x_{2} x_{4} P + 2 x_{2} - x_{3} x_{4} P + 2 x_{3} - x_{4} x_{5} P + 2 x_{4} - x_{5} x_{6} P + 9/2 x_{5} + 3 x_{6}$"
      ],
      "text/plain": [
       "-x1*x2*P - x1*x3*P + 2*x1 - x2*x3*P - x2*x4*P + 2*x2 - x3*x4*P + 2*x3 - x4*x5*P + 2*x4 - x5*x6*P + 9/2*x5 + 3*x6"
      ]
     },
     "execution_count": 39,
     "metadata": {},
     "output_type": "execute_result"
    }
   ],
   "source": [
    "model = R(2*x[1]+2*x[2]+2*x[3]+2*x[4]+4.5*x[5]+3*x[6]\n",
    "          -P*x[1]*x[3]\n",
    "          -P*x[1]*x[2]\n",
    "          -P*x[2]*x[3]\n",
    "          -P*x[2]*x[4]\n",
    "          -P*x[3]*x[4]\n",
    "          -P*x[4]*x[5]\n",
    "          -P*x[5]*x[6]\n",
    "         )\n",
    "model"
   ]
  },
  {
   "cell_type": "code",
   "execution_count": 40,
   "id": "04ccb1de-f571-434e-be2f-47988aac06e4",
   "metadata": {},
   "outputs": [
    {
     "name": "stderr",
     "output_type": "stream",
     "text": [
      "/var/folders/cc/95f7218n54l6mb7jmsyzvssr0000gn/T/ipykernel_33071/1937982928.py:16: UserWarning: Symbol \"P\" was dropped from the model\n",
      "  warnings.warn(f'Symbol \"{str(gen)}\" was dropped from the model')\n"
     ]
    },
    {
     "data": {
      "text/plain": [
       "tensor([[ 2.0000, -1.0000, -1.0000,  0.0000,  0.0000,  0.0000],\n",
       "        [-1.0000,  2.0000, -1.0000, -1.0000,  0.0000,  0.0000],\n",
       "        [-1.0000, -1.0000,  2.0000, -1.0000,  0.0000,  0.0000],\n",
       "        [ 0.0000, -1.0000, -1.0000,  2.0000, -1.0000,  0.0000],\n",
       "        [ 0.0000,  0.0000,  0.0000, -1.0000,  4.5000, -1.0000],\n",
       "        [ 0.0000,  0.0000,  0.0000,  0.0000, -1.0000,  3.0000]],\n",
       "       dtype=torch.float64)"
      ]
     },
     "execution_count": 40,
     "metadata": {},
     "output_type": "execute_result"
    }
   ],
   "source": [
    "Q, constant = poly_to_Q(model.subs(R(P), 2))\n",
    "Q"
   ]
  },
  {
   "cell_type": "code",
   "execution_count": 41,
   "id": "6f71271b-373f-4b0b-a824-efe848ed54d2",
   "metadata": {},
   "outputs": [
    {
     "name": "stderr",
     "output_type": "stream",
     "text": [
      "Iterations:   0%|                                     | 0/10000 [00:00<?, ?it/s]\n",
      "Iterations:  33%|███████▌               | 3300/10000 [00:00<00:00, 45608.59it/s]\u001b[A\n",
      "Bifurcated agents: 100%|████████████████████| 128/128 [00:00<00:00, 1784.77it/s]\n"
     ]
    },
    {
     "data": {
      "text/plain": [
       "(tensor([0., 1., 1., 0., 1., 1.]), 7.5)"
      ]
     },
     "execution_count": 41,
     "metadata": {},
     "output_type": "execute_result"
    }
   ],
   "source": [
    "spins, energy = sb.maximize(Q, input_type='binary', ballistic=True)\n",
    "spins, energy"
   ]
  },
  {
   "cell_type": "markdown",
   "id": "ba0140bc-e19d-44c5-82cf-ad1c74534299",
   "metadata": {},
   "source": [
    "# Establishing Satisfiability Clauses as Quadratic Penalties\n",
    "\n",
    "See [Section 4.3](https://arxiv.org/pdf/1811.11538.pdf)\n",
    "\n",
    "| Clause # | Clause | Quadratic Penalty | Interpretation\n",
    "|---|------|-----|----|\n",
    "| 1 | $x_i \\lor x_j$ | $\\left(1-x_i-x_j+x_ix_j\\right)$ | $x_i$ OR $x_j$ (no negation)| \n",
    "| 2 | $x_i \\lor \\overline{x_j}$ | $\\left(x_j-x_ix_j\\right)$ | $x_i$ OR (NOT $x_j$) (single negation) |\n",
    "| 3 | $\\overline{x_i} \\lor \\overline{x_j}$ | $\\left(x_ix_j\\right)$ | (NOT $x_i$) OR (NOT $x_j$) (double negation)\n",
    "\n",
    "Note that $x_j$ = 1 or 0 denotes whether literal j is `True` or `False` and the notation $\\overline{x_j}$, the complement of $x_j$, is equal to $\\left(1-x_j\\right)$"
   ]
  },
  {
   "cell_type": "markdown",
   "id": "3ae6a0c9-e39f-4859-95f2-72746127ab60",
   "metadata": {},
   "source": [
    "# The Max 2-Sat Problem\n",
    "\n",
    "See [Section 4.3](https://arxiv.org/pdf/1811.11538.pdf)\n",
    "\n",
    "For a given Max 2-Sat instance then, we can add the quadratic penalties associated with the problem clauses to get a composite penalty function which we want to minimize. Since the penalties are all quadratic, this penalty function takes the form of a QUBO model:\n",
    "\n",
    "$$min y = x^tQx$$\n",
    "\n",
    "Moreover, if $y$ turns out to be equal to zero when minimizing the QUBO model, this means we have a solution that satisfies all of the clauses; if $y$ turns out to equal, say, 5, that means we have a solution that satisfies all but 5 of the clauses; and so forth."
   ]
  },
  {
   "cell_type": "markdown",
   "id": "a494631e-ce9a-4b02-9df9-1ab34310c4b4",
   "metadata": {},
   "source": [
    "# Numerical Example\n",
    "\n",
    "The above modeling and solution procedure is illustrated by the following example with 4 variables\n",
    "and 12 clauses where the penalties are determined by the clause types that need to be satisfied:\n",
    "\n",
    "| Clause # | Clause | Quadratic Penalty |\n",
    "|----------|--------|-------------------|\n",
    "| 1  | $x_1 \\lor x_2$ | $\\left( 1-x_1-x_2+x_1x_2\\right)$ |\n",
    "| 2  | $x_1 \\lor \\overline{x_2}$ | $\\left( x_2-x_1x_2\\right)$ |\n",
    "| 3  | $\\overline{x_1} \\lor x_2$ | $\\left( x_1-x_1x_2\\right)$ |\n",
    "| 4  | $\\overline{x_1} \\lor \\overline{x_2}$ | $\\left( x_1x_2\\right)$ |\n",
    "| 5  | $\\overline{x_1} \\lor x_3$ | $\\left( x_1-x_1x_3\\right)$ |\n",
    "| 6  | $\\overline{x_1} \\lor \\overline{x_3}$ | $\\left( x_1x_3\\right)$ |\n",
    "| 7  | $x_2 \\lor \\overline{x_3}$ | $\\left( x_3-x_2x_3\\right)$ |\n",
    "| 8  | $x_2 \\lor x_4$ | $\\left( 1-x_2-x_4+x_2x_4\\right)$ |\n",
    "| 9  | $\\overline{x_2} \\lor x_3$ | $\\left( x_2-x_2x_3\\right)$ |\n",
    "| 10 | $\\overline{x_2} \\lor \\overline{x_3}$ | $\\left( x_2x_3\\right)$ |\n",
    "| 11 | $x_3 \\lor x_4$ | $\\left( 1-x_3-x_4+x_3x_4\\right)$ |\n",
    "| 12 | $\\overline{x_3} \\lor \\overline{x_4}$ | $\\left( x_3x_4\\right)$ |\n",
    "\n",
    "Adding the individual clause penalties together (using SymPy):"
   ]
  },
  {
   "cell_type": "code",
   "execution_count": 42,
   "id": "2e18bb9a-dada-4bef-9434-1efe3fb9d7d4",
   "metadata": {},
   "outputs": [
    {
     "data": {
      "text/plain": [
       "(x0, x1, x2, x3, x4)"
      ]
     },
     "execution_count": 42,
     "metadata": {},
     "output_type": "execute_result"
    }
   ],
   "source": [
    "x = sympy.symbols('x(:5)')\n",
    "x"
   ]
  },
  {
   "cell_type": "code",
   "execution_count": 43,
   "id": "cec88887-dd1b-4304-a8e6-dc0cee79fdb3",
   "metadata": {},
   "outputs": [],
   "source": [
    "# polynomial ring of symbolic coefficients\n",
    "R = QQ[x[1:]]"
   ]
  },
  {
   "cell_type": "code",
   "execution_count": 44,
   "id": "d0540a20-2c09-48ba-9be6-02d83da5a5f0",
   "metadata": {},
   "outputs": [
    {
     "data": {
      "text/latex": [
       "$\\displaystyle x_{1} - x_{2} x_{3} + x_{2} x_{4} + 2 x_{3} x_{4} - 2 x_{4} + 3$"
      ],
      "text/plain": [
       "x1 - x2*x3 + x2*x4 + 2*x3*x4 - 2*x4 + 3"
      ]
     },
     "execution_count": 44,
     "metadata": {},
     "output_type": "execute_result"
    }
   ],
   "source": [
    "# Define our penalties\n",
    "penalties = [1-x[1]-x[2]+x[1]*x[2],\n",
    "           x[2]-x[1]*x[2],\n",
    "           x[1]-x[1]*x[2],\n",
    "           x[1]*x[2],\n",
    "           x[1]-x[1]*x[3],\n",
    "           x[1]*x[3],\n",
    "           x[3]-x[2]*x[3],\n",
    "           1-x[2]-x[4]+x[2]*x[4],\n",
    "           x[2]-x[2]*x[3],\n",
    "           x[2]*x[3],\n",
    "           1-x[3]-x[4]+x[3]*x[4],\n",
    "           x[3]*x[4],\n",
    "          ]\n",
    "\n",
    "model = R(sympy.Add(*penalties))\n",
    "model"
   ]
  },
  {
   "cell_type": "markdown",
   "id": "41b983c6-7185-439f-b300-3c9a3af74855",
   "metadata": {},
   "source": [
    "gives our QUBO model:\n",
    "\n",
    "$$\\text{min } y=3+x_1-2x_4-x_2x_3+x_2x_4+2x_3x_4$$\n",
    "\n",
    "or\n",
    "\n",
    "$$\\text{min }y=3+x^tQx$$\n",
    "\n",
    "where the $Q$ matrix is given by:"
   ]
  },
  {
   "cell_type": "code",
   "execution_count": 45,
   "id": "ddbb2c6f-fc6f-44e2-a18d-3a4cfbf71cca",
   "metadata": {},
   "outputs": [
    {
     "data": {
      "text/plain": [
       "tensor([[ 1.0000,  0.0000,  0.0000,  0.0000],\n",
       "        [ 0.0000,  0.0000, -0.5000,  0.5000],\n",
       "        [ 0.0000, -0.5000,  0.0000,  1.0000],\n",
       "        [ 0.0000,  0.5000,  1.0000, -2.0000]], dtype=torch.float64)"
      ]
     },
     "execution_count": 45,
     "metadata": {},
     "output_type": "execute_result"
    }
   ],
   "source": [
    "Q, constant = poly_to_Q(model)\n",
    "Q"
   ]
  },
  {
   "cell_type": "code",
   "execution_count": 46,
   "id": "7006a4b3-6ad4-49c9-b883-e0d50ddf13a3",
   "metadata": {},
   "outputs": [
    {
     "name": "stderr",
     "output_type": "stream",
     "text": [
      "Iterations:   0%|                                     | 0/10000 [00:00<?, ?it/s]\n",
      "Bifurcated agents:   0%|                                | 0/128 [00:00<?, ?it/s]\u001b[A\n",
      "Iterations: 100%|██████████████████████| 10000/10000 [00:00<00:00, 50089.91it/s]\u001b[A\n",
      "Bifurcated agents:   0%|                                | 0/128 [00:00<?, ?it/s]\n",
      "2023-10-25 12:47:08,593 - simulated_bifurcation_optimizer - WARNING - No agent has converged. Returned final positions' signs instead.\n"
     ]
    },
    {
     "data": {
      "text/plain": [
       "(tensor([1., 0., 1., 0.]), 1.0)"
      ]
     },
     "execution_count": 46,
     "metadata": {},
     "output_type": "execute_result"
    }
   ],
   "source": [
    "spins, energy = sb.maximize(Q, input_type='binary', ballistic=True)\n",
    "spins, energy"
   ]
  },
  {
   "cell_type": "markdown",
   "id": "98dc0916-6ea4-4e29-b362-288521e9bdef",
   "metadata": {},
   "source": [
    "Oh, no! The simulation isn't converging so let's try decreasing the time_step to improve the likelihood of convergence:"
   ]
  },
  {
   "cell_type": "code",
   "execution_count": 47,
   "id": "893eaa4c-532f-4431-a4fc-51f35e80ef4e",
   "metadata": {},
   "outputs": [
    {
     "name": "stdout",
     "output_type": "stream",
     "text": [
      "Simulated Bifurcation optimizer's time step set to 0.001.\n"
     ]
    },
    {
     "name": "stderr",
     "output_type": "stream",
     "text": [
      "Iterations:   0%|                                     | 0/10000 [00:00<?, ?it/s]\n",
      "Bifurcated agents:   0%|                                | 0/128 [00:00<?, ?it/s]\u001b[A\n",
      "Iterations: 100%|██████████████████████| 10000/10000 [00:00<00:00, 51567.11it/s]\u001b[A\n",
      "Bifurcated agents:   5%|█▏                      | 6/128 [00:00<00:03, 31.14it/s]\n"
     ]
    },
    {
     "data": {
      "text/plain": [
       "(tensor([0., 0., 0., 1.]), -2.0)"
      ]
     },
     "execution_count": 47,
     "metadata": {},
     "output_type": "execute_result"
    }
   ],
   "source": [
    "sb.set_env(time_step=0.001)\n",
    "spins, energy = sb.maximize(Q, input_type='binary', ballistic=True)\n",
    "sb.reset_env()\n",
    "spins, energy"
   ]
  },
  {
   "cell_type": "code",
   "execution_count": 48,
   "id": "c4fffc01-fac9-401c-8b31-0c1d221ea186",
   "metadata": {},
   "outputs": [
    {
     "data": {
      "text/plain": [
       "1.0"
      ]
     },
     "execution_count": 48,
     "metadata": {},
     "output_type": "execute_result"
    }
   ],
   "source": [
    "y = constant + energy\n",
    "y"
   ]
  },
  {
   "cell_type": "markdown",
   "id": "945fbfba-af88-454c-abe2-569c2575c3f2",
   "metadata": {},
   "source": [
    "In this case, since $y=3-2=1$, this implies that all clauses except for one (i.e., 11/12 clauses) are satisfied. \n",
    "\n",
    "The QUBO approach illustrated above has been successfully used in [Kochenberger, et. al. (2005)](https://www.researchgate.net/publication/249874296_Using_the_unconstrained_quadratic_program_to_model_and_solve_Max_2SAT_problems) to solve Max 2-sat problems with hundreds of variables and thousands of clauses. An interesting feature of this approach for solving Max 2-sat problems is that the size of the resulting QUBO model to be solved is independent of the number of clauses in the problem and is determined only by the number of variables at hand. Thus, a Max 2-Sat problem with 200 variables and 30,000 clauses can be modeled and solved as a QUBO model with just 200 variables. "
   ]
  },
  {
   "cell_type": "markdown",
   "id": "3592cc8f-ec07-4957-80f2-2b67c5a2d7c1",
   "metadata": {},
   "source": [
    "# Creating QUBO Models: A General Purpose Approach\n",
    "\n",
    "# The Set Partitioning Problem\n",
    "\n",
    "See [Section 5.1](https://arxiv.org/pdf/1811.11538.pdf)"
   ]
  },
  {
   "cell_type": "code",
   "execution_count": 49,
   "id": "7abe662f-8407-44e9-8c1b-e3640c766b4f",
   "metadata": {},
   "outputs": [
    {
     "data": {
      "text/plain": [
       "((x0, x1, x2, x3, x4, x5, x6), P)"
      ]
     },
     "execution_count": 49,
     "metadata": {},
     "output_type": "execute_result"
    }
   ],
   "source": [
    "x, P = sympy.symbols('x(:7)'), sympy.symbols('P')\n",
    "x, P"
   ]
  },
  {
   "cell_type": "code",
   "execution_count": 50,
   "id": "90dc15da-611e-49be-ac89-1479103c4c74",
   "metadata": {},
   "outputs": [],
   "source": [
    "# polynomial ring of symbolic coefficients\n",
    "R = QQ[x[1:]+(P,)]"
   ]
  },
  {
   "cell_type": "code",
   "execution_count": 51,
   "id": "405ec366-b3a8-4fa4-a83d-0c466bef924a",
   "metadata": {},
   "outputs": [
    {
     "data": {
      "text/latex": [
       "$\\displaystyle 2 {x_{1}}^{2} P + 2 x_{1} x_{2} P + 2 x_{1} x_{3} P + 2 x_{1} x_{4} P + 4 x_{1} x_{6} P - 4 x_{1} P + 3 x_{1} + 2 {x_{2}}^{2} P + 2 x_{2} x_{3} P + 2 x_{2} x_{4} P + 2 x_{2} x_{5} P + 4 x_{2} x_{6} P - 4 x_{2} P + 2 x_{2} + 3 {x_{3}}^{2} P + 2 x_{3} x_{4} P + 4 x_{3} x_{5} P + 4 x_{3} x_{6} P - 6 x_{3} P + x_{3} + 2 {x_{4}}^{2} P + 2 x_{4} x_{5} P + 2 x_{4} x_{6} P - 4 x_{4} P + x_{4} + 2 {x_{5}}^{2} P + 2 x_{5} x_{6} P - 4 x_{5} P + 3 x_{5} + 3 {x_{6}}^{2} P - 6 x_{6} P + 2 x_{6} + 4 P$"
      ],
      "text/plain": [
       "2*x1**2*P + 2*x1*x2*P + 2*x1*x3*P + 2*x1*x4*P + 4*x1*x6*P - 4*x1*P + 3*x1 + 2*x2**2*P + 2*x2*x3*P + 2*x2*x4*P + 2*x2*x5*P + 4*x2*x6*P - 4*x2*P + 2*x2 + 3*x3**2*P + 2*x3*x4*P + 4*x3*x5*P + 4*x3*x6*P - 6*x3*P + x3 + 2*x4**2*P + 2*x4*x5*P + 2*x4*x6*P - 4*x4*P + x4 + 2*x5**2*P + 2*x5*x6*P - 4*x5*P + 3*x5 + 3*x6**2*P - 6*x6*P + 2*x6 + 4*P"
      ]
     },
     "execution_count": 51,
     "metadata": {},
     "output_type": "execute_result"
    }
   ],
   "source": [
    "model = R(3*x[1]+2*x[2]+x[3]+x[4]+3*x[5]+2*x[6]\n",
    "          +P*(x[1]+x[3]+x[6]-1)**2 + P*(x[2]+x[3]+x[5]+x[6]-1)**2\n",
    "          +P*(x[3]+x[4]+x[5]-1)**2 + P*(x[1]+x[2]+x[4]+x[6]-1)**2\n",
    "         )\n",
    "model"
   ]
  },
  {
   "cell_type": "code",
   "execution_count": 52,
   "id": "df411aaa-316e-43e3-bda1-6247b27a0356",
   "metadata": {},
   "outputs": [
    {
     "name": "stderr",
     "output_type": "stream",
     "text": [
      "/var/folders/cc/95f7218n54l6mb7jmsyzvssr0000gn/T/ipykernel_33071/1937982928.py:16: UserWarning: Symbol \"P\" was dropped from the model\n",
      "  warnings.warn(f'Symbol \"{str(gen)}\" was dropped from the model')\n"
     ]
    },
    {
     "data": {
      "text/plain": [
       "tensor([[-17.,  10.,  10.,  10.,   0.,  20.],\n",
       "        [ 10., -18.,  10.,  10.,  10.,  20.],\n",
       "        [ 10.,  10., -29.,  10.,  20.,  20.],\n",
       "        [ 10.,  10.,  10., -19.,  10.,  10.],\n",
       "        [  0.,  10.,  20.,  10., -17.,  10.],\n",
       "        [ 20.,  20.,  20.,  10.,  10., -28.]], dtype=torch.float64)"
      ]
     },
     "execution_count": 52,
     "metadata": {},
     "output_type": "execute_result"
    }
   ],
   "source": [
    "Q, constant = poly_to_Q(model.subs(R(P), 10))  # Arbitrarily take P = 10\n",
    "Q"
   ]
  },
  {
   "cell_type": "code",
   "execution_count": 53,
   "id": "8b64a38f-b912-4db8-81c3-974b8b91f392",
   "metadata": {},
   "outputs": [
    {
     "name": "stderr",
     "output_type": "stream",
     "text": [
      "Iterations:   0%|                                     | 0/10000 [00:00<?, ?it/s]\n",
      "Iterations:  34%|███████▉               | 3450/10000 [00:00<00:00, 45136.48it/s]\u001b[A\n",
      "Bifurcated agents: 100%|████████████████████| 128/128 [00:00<00:00, 1684.04it/s]\n"
     ]
    },
    {
     "data": {
      "text/plain": [
       "(tensor([1., 0., 0., 0., 1., 0.]), -34.0)"
      ]
     },
     "execution_count": 53,
     "metadata": {},
     "output_type": "execute_result"
    }
   ],
   "source": [
    "spins, energy = sb.minimize(Q, input_type='binary', ballistic=True)\n",
    "spins, energy"
   ]
  },
  {
   "cell_type": "code",
   "execution_count": 54,
   "id": "7d07e04b-2e2a-4fbd-ba7b-b85ddea07b4e",
   "metadata": {},
   "outputs": [
    {
     "data": {
      "text/plain": [
       "6.0"
      ]
     },
     "execution_count": 54,
     "metadata": {},
     "output_type": "execute_result"
    }
   ],
   "source": [
    "y = constant + energy\n",
    "y"
   ]
  },
  {
   "cell_type": "markdown",
   "id": "aec5f650-c393-429a-99a3-5e91c55c934c",
   "metadata": {},
   "source": [
    "# Graph Coloring"
   ]
  },
  {
   "cell_type": "code",
   "execution_count": 55,
   "id": "9589db44-3a3d-4025-9a56-a585053994df",
   "metadata": {},
   "outputs": [],
   "source": [
    "for i in range(3):\n",
    "    for j in range(3):\n",
    "        sympy.var('a_%d%d' % (i,j))"
   ]
  },
  {
   "cell_type": "code",
   "execution_count": 56,
   "id": "e4a1c4c1-0a38-45db-bcec-412fd4ae833b",
   "metadata": {},
   "outputs": [
    {
     "data": {
      "text/latex": [
       "$\\displaystyle a_{11}$"
      ],
      "text/plain": [
       "a_11"
      ]
     },
     "execution_count": 56,
     "metadata": {},
     "output_type": "execute_result"
    }
   ],
   "source": [
    "a_11"
   ]
  },
  {
   "cell_type": "code",
   "execution_count": null,
   "id": "e7e6d804-e886-44fc-a77c-824c2c365ccc",
   "metadata": {},
   "outputs": [],
   "source": []
  }
 ],
 "metadata": {
  "kernelspec": {
   "display_name": "Python 3 (ipykernel)",
   "language": "python",
   "name": "python3"
  },
  "language_info": {
   "codemirror_mode": {
    "name": "ipython",
    "version": 3
   },
   "file_extension": ".py",
   "mimetype": "text/x-python",
   "name": "python",
   "nbconvert_exporter": "python",
   "pygments_lexer": "ipython3",
   "version": "3.11.5"
  },
  "widgets": {
   "application/vnd.jupyter.widget-state+json": {
    "state": {},
    "version_major": 2,
    "version_minor": 0
   }
  }
 },
 "nbformat": 4,
 "nbformat_minor": 5
}
