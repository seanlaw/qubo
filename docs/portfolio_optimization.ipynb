{
 "cells": [
  {
   "cell_type": "code",
   "execution_count": 1,
   "id": "e908672b-aa79-4680-882c-5921ebd42555",
   "metadata": {},
   "outputs": [],
   "source": [
    "import requests\n",
    "import torch\n",
    "import sympy\n",
    "from sympy import symbols, QQ\n",
    "import re\n",
    "import time\n",
    "import warnings\n",
    "import simulated_bifurcation as sb"
   ]
  },
  {
   "cell_type": "code",
   "execution_count": 2,
   "id": "78542a55-b0ff-4815-8013-ad7f4c8cbebd",
   "metadata": {},
   "outputs": [],
   "source": [
    "def preprocess(model, gens):\n",
    "    \"\"\"\n",
    "    Establish the correct/allowed model symbols (gens) and update the model accordingly\n",
    "    \"\"\"\n",
    "    if gens is None:\n",
    "        gens = []\n",
    "        for gen in model.ring.gens:\n",
    "            if re.match('x[1-9][0-9]*', str(gen)):\n",
    "                gens.append(gen)\n",
    "            # elif re.match('x0$', str(gen)):\n",
    "            #     pass                \n",
    "        gens = tuple(gens)\n",
    "\n",
    "    drop_gens = set(model.ring.gens).difference(set(gens))\n",
    "    for gen in drop_gens:\n",
    "        warnings.warn(f'Symbol \"{str(gen)}\" was dropped from the model')\n",
    "        model = model.drop(model.ring(gen))\n",
    "\n",
    "    return model, gens\n",
    "\n",
    "def split_constant_term(model, gens):\n",
    "    \"\"\"\n",
    "    Separate the constant term from the polynomial expression\n",
    "    \"\"\"\n",
    "    model_dict = model.to_dict()\n",
    "    constant_monom = (0,) * len(gens)\n",
    "    constant = model_dict.pop(constant_monom, None)\n",
    "    if constant is None:\n",
    "        constant = 0\n",
    "    else:\n",
    "        constant = float(constant)\n",
    "        if constant.is_integer():\n",
    "            constant = int(constant)\n",
    "\n",
    "    return model.ring(model_dict), constant\n",
    "\n",
    "\n",
    "def square_diagonal_terms(model, gens):\n",
    "    \"\"\"\n",
    "    Convert linear terms, $x_i$, to squared terms, $x_i*x_i$ \n",
    "    \"\"\"\n",
    "    tmp_monom = [0,] * len(gens)\n",
    "    squared_dict = model.to_dict().copy()\n",
    "    for i, gen in enumerate(gens):\n",
    "        tmp_monom[i] = 1\n",
    "        coeff = squared_dict.pop(tuple(tmp_monom), None)\n",
    "        tmp_monom[i] = 2\n",
    "        if coeff is not None:\n",
    "            squared_dict[tuple(tmp_monom)] = squared_dict.get(tuple(tmp_monom), 0) + coeff\n",
    "        tmp_monom[i] = 0\n",
    "\n",
    "    return model.ring(squared_dict)\n",
    "\n",
    "\n",
    "def poly_to_Q(model, gens=None):\n",
    "    \"\"\"\n",
    "    Convert a `sympy` PolyElement model to its corresponding Q matrix and constant\n",
    "    \"\"\"\n",
    "\n",
    "    model, gens = preprocess(model, gens)\n",
    "    model, constant = split_constant_term(model, gens)\n",
    "    model = square_diagonal_terms(model, gens)\n",
    "\n",
    "    Q = torch.zeros((len(gens), len(gens)), dtype=torch.float64)\n",
    "    monoms = torch.tensor(model.monoms(), dtype=torch.int32)\n",
    "    coeffs = torch.tensor(model.coeffs(), dtype=torch.float64)\n",
    "    for i in range(len(monoms)):\n",
    "        idx = torch.nonzero(monoms[i])\n",
    "        if len(idx) == 2:\n",
    "            value = 0.5*coeffs[i]\n",
    "            Q[idx[0], idx[1]] = value\n",
    "            Q[idx[1], idx[0]] = value\n",
    "        elif len(idx) == 1:\n",
    "            Q[idx[0], idx[0]] = coeffs[i]\n",
    "        else:\n",
    "            warnings.warn(f'Unrecognized non-quadratic terms were excluded from the model')\n",
    "    \n",
    "    return Q, constant"
   ]
  },
  {
   "cell_type": "markdown",
   "id": "6335e6db-2c93-4cec-8952-b28e0206a70c",
   "metadata": {},
   "source": [
    "See:\n",
    "\n",
    "* [Portfolio Optimization Example](https://www.mathworks.com/help/optim/ug/quadratic-programming-portfolio-optimization-problem-based.html)\n",
    "* [Portfolio Data](http://people.brunel.ac.uk/~mastjjb/jeb/orlib/portinfo.html)\n",
    "* [port5](http://people.brunel.ac.uk/~mastjjb/jeb/orlib/files/port5.txt)\n",
    "* [Original Paper](https://citeseerx.ist.psu.edu/document?repid=rep1&type=pdf&doi=08ed9a39b32fc84a5a3ad7325dfcf6ecfe19183e)"
   ]
  },
  {
   "cell_type": "code",
   "execution_count": 3,
   "id": "b5f29152-35d0-45f1-8753-c368d1ba4a82",
   "metadata": {},
   "outputs": [],
   "source": [
    "url = \"http://people.brunel.ac.uk/~mastjjb/jeb/orlib/files/port5.txt\"\n",
    "response = requests.get(url)"
   ]
  },
  {
   "cell_type": "markdown",
   "id": "aebad897-e309-4518-a80c-6cf002e25c5d",
   "metadata": {},
   "source": [
    "According to the [original source](http://people.brunel.ac.uk/~mastjjb/jeb/orlib/portinfo.html), the format of the data is:\n",
    "\n",
    "```\n",
    "number of assets (N)\n",
    "for each asset i (i=1,...,N):\n",
    "   mean return, standard deviation of return\n",
    "for all possible pairs of assets:\n",
    "   i, j, correlation between asset i and asset j\n",
    "```\n",
    "\n",
    "Note that the correlation is only the upper triangular matrix"
   ]
  },
  {
   "cell_type": "code",
   "execution_count": 4,
   "id": "e7506822-bf87-41a1-886d-42472b940137",
   "metadata": {},
   "outputs": [],
   "source": [
    "lines = (l.strip() for l in response.text.split('\\n'))\n",
    "n_assets = int(next(lines))\n",
    "\n",
    "mean_return = torch.empty(n_assets, dtype=torch.float64)\n",
    "stddev_return = torch.empty(n_assets, dtype=torch.float64)\n",
    "for i in range(n_assets):\n",
    "    mean_return[i], stddev_return[i] = (float(l.strip()) for l in next(lines).split())\n",
    "\n",
    "corr = torch.full((n_assets, n_assets), torch.nan, dtype=torch.float64)\n",
    "for l in lines:\n",
    "    if l != \"\":\n",
    "        i, j, value = l.split()\n",
    "        i, j, value = int(i)-1, int(j)-1, float(value)\n",
    "        corr[i, j], corr[j, i] = value, value"
   ]
  },
  {
   "cell_type": "code",
   "execution_count": 5,
   "id": "47d21820-1c57-4608-86c4-c696646087dd",
   "metadata": {},
   "outputs": [],
   "source": [
    "covar = corr * (stddev_return * stddev_return)"
   ]
  },
  {
   "cell_type": "code",
   "execution_count": 6,
   "id": "d90e8629-41a8-4ed0-998c-631e0bf4f9fe",
   "metadata": {},
   "outputs": [
    {
     "data": {
      "text/plain": [
       "tensor([[0.0014, 0.0010, 0.0012,  ..., 0.0006, 0.0007, 0.0004],\n",
       "        [0.0006, 0.0025, 0.0009,  ..., 0.0005, 0.0007, 0.0002],\n",
       "        [0.0008, 0.0010, 0.0023,  ..., 0.0005, 0.0007, 0.0003],\n",
       "        ...,\n",
       "        [0.0007, 0.0010, 0.0010,  ..., 0.0012, 0.0009, 0.0003],\n",
       "        [0.0007, 0.0011, 0.0010,  ..., 0.0007, 0.0015, 0.0003],\n",
       "        [0.0007, 0.0007, 0.0010,  ..., 0.0005, 0.0006, 0.0008]],\n",
       "       dtype=torch.float64)"
      ]
     },
     "execution_count": 6,
     "metadata": {},
     "output_type": "execute_result"
    }
   ],
   "source": [
    "covar"
   ]
  },
  {
   "cell_type": "code",
   "execution_count": 7,
   "id": "bfb49765-eec0-417b-9dad-c3840ce3c012",
   "metadata": {},
   "outputs": [],
   "source": [
    "r = 0.002"
   ]
  },
  {
   "cell_type": "code",
   "execution_count": 8,
   "id": "d9e26e39-f0ac-4ba3-b817-42d5f10627f7",
   "metadata": {},
   "outputs": [],
   "source": [
    "Q = 0.5 * covar"
   ]
  },
  {
   "cell_type": "code",
   "execution_count": 9,
   "id": "36537da1-f281-4c24-b08b-9eb417445e28",
   "metadata": {},
   "outputs": [],
   "source": [
    "x, Peq = sympy.symbols(f'x(:{n_assets+1})'), sympy.symbols('Peq')\n",
    "# polynomial ring of symbolic coefficients\n",
    "R = QQ[x[1:]+(Peq,)]"
   ]
  },
  {
   "cell_type": "code",
   "execution_count": 10,
   "id": "c45d58b4-5ba8-4332-85a1-f7ae58a63d85",
   "metadata": {},
   "outputs": [
    {
     "name": "stdout",
     "output_type": "stream",
     "text": [
      "0.592526912689209\n"
     ]
    }
   ],
   "source": [
    "start = time.time()\n",
    "equality = -1\n",
    "for i in range(1, n_assets+1):\n",
    "    equality += x[i]\n",
    "    \n",
    "penalties = R.from_sympy(Peq*(equality)**2)\n",
    "print(time.time() - start)"
   ]
  },
  {
   "cell_type": "code",
   "execution_count": 11,
   "id": "7b6dc1a4-3c1a-4dce-8d32-be2c442fb29d",
   "metadata": {
    "scrolled": true
   },
   "outputs": [
    {
     "name": "stderr",
     "output_type": "stream",
     "text": [
      "/var/folders/cc/95f7218n54l6mb7jmsyzvssr0000gn/T/ipykernel_33049/1937982928.py:16: UserWarning: Symbol \"Peq\" was dropped from the model\n",
      "  warnings.warn(f'Symbol \"{str(gen)}\" was dropped from the model')\n"
     ]
    },
    {
     "name": "stdout",
     "output_type": "stream",
     "text": [
      "0.7910847663879395\n"
     ]
    }
   ],
   "source": [
    "start = time.time()\n",
    "# Q, constant = poly_to_Q(penalties.evaluate(R(Peq), 10))\n",
    "penalties, constant = poly_to_Q(penalties.subs(R(Peq), 10))\n",
    "print(time.time() - start)"
   ]
  },
  {
   "cell_type": "code",
   "execution_count": 12,
   "id": "6c29f48d-82a6-4afb-85b7-52a698f6be12",
   "metadata": {},
   "outputs": [
    {
     "name": "stderr",
     "output_type": "stream",
     "text": [
      "Iterations:   0%|                                     | 0/10000 [00:00<?, ?it/s]\n",
      "Bifurcated agents:   0%|                                | 0/128 [00:00<?, ?it/s]\u001b[A\n",
      "Bifurcated agents:   0%|                                | 0/128 [00:00<?, ?it/s]\u001b[A\n",
      "Iterations:  26%|██████                  | 2550/10000 [00:00<00:00, 8668.25it/s]\u001b[A\n",
      "Bifurcated agents: 100%|█████████████████████| 128/128 [00:00<00:00, 436.91it/s]\n"
     ]
    },
    {
     "data": {
      "text/plain": [
       "(tensor([1., 1., 1., 1., 1., 1., 1., 1., 1., 1., 1., 1., 1., 1., 1., 1., 1., 1.,\n",
       "         1., 1., 1., 1., 1., 1., 1., 1., 1., 1., 1., 1., 1., 1., 1., 1., 1., 1.,\n",
       "         1., 1., 1., 1., 1., 1., 1., 1., 1., 1., 1., 1., 1., 1., 1., 1., 1., 1.,\n",
       "         1., 1., 1., 1., 1., 1., 1., 1., 1., 1., 1., 1., 1., 1., 1., 1., 1., 1.,\n",
       "         1., 1., 1., 1., 1., 1., 1., 1., 1., 1., 1., 1., 1., 1., 1., 1., 1., 1.,\n",
       "         1., 1., 1., 1., 1., 1., 1., 1., 1., 1., 1., 1., 1., 1., 1., 1., 1., 1.,\n",
       "         1., 1., 1., 1., 1., 1., 1., 1., 1., 1., 1., 1., 1., 1., 1., 1., 1., 1.,\n",
       "         1., 1., 1., 1., 1., 1., 1., 1., 1., 1., 1., 1., 1., 1., 1., 1., 1., 1.,\n",
       "         1., 1., 1., 1., 1., 1., 1., 1., 1., 1., 1., 1., 1., 1., 1., 1., 1., 1.,\n",
       "         1., 1., 1., 1., 1., 1., 1., 1., 1., 1., 1., 1., 1., 1., 1., 1., 1., 1.,\n",
       "         1., 1., 1., 1., 1., 1., 1., 1., 1., 1., 1., 1., 1., 1., 1., 1., 1., 1.,\n",
       "         1., 1., 1., 1., 1., 1., 1., 1., 1., 1., 1., 1., 1., 1., 1., 1., 1., 1.,\n",
       "         1., 1., 1., 1., 1., 1., 1., 1., 1.]),\n",
       " 501774.46875)"
      ]
     },
     "execution_count": 12,
     "metadata": {},
     "output_type": "execute_result"
    }
   ],
   "source": [
    "sb.maximize(Q+penalties, input_type='binary', ballistic=True)"
   ]
  },
  {
   "cell_type": "code",
   "execution_count": 13,
   "id": "ba98a276-c8d6-441e-801b-1a7c9cd7a3c3",
   "metadata": {},
   "outputs": [
    {
     "data": {
      "text/plain": [
       "tensor([-1.1170e-03,  3.1230e-03, -3.4710e-03, -5.8500e-04, -7.6900e-04,\n",
       "        -3.1240e-03, -3.2500e-03, -2.1740e-03,  3.7300e-03, -2.4500e-03,\n",
       "        -9.5000e-04, -3.7000e-03, -1.1220e-03, -2.4410e-03, -1.7060e-03,\n",
       "        -4.6150e-03, -3.7740e-03, -7.0400e-04, -1.8720e-03, -3.5470e-03,\n",
       "        -1.9090e-03, -1.5190e-03, -1.7700e-03, -2.9700e-03, -2.9090e-03,\n",
       "        -9.1300e-04, -3.1660e-03, -1.5730e-03, -4.0370e-03, -2.0490e-03,\n",
       "        -1.9340e-03, -2.4000e-05, -2.6850e-03, -4.8000e-05,  7.8000e-05,\n",
       "         7.2700e-04, -1.8400e-04,  2.6700e-04, -1.6310e-03,  3.0830e-03,\n",
       "        -7.2100e-04, -5.0500e-04,  3.3890e-03, -3.6880e-03, -2.1930e-03,\n",
       "        -1.2670e-03, -1.5120e-03, -1.8500e-04, -2.7840e-03,  5.9900e-04,\n",
       "        -1.0450e-03, -1.8680e-03, -2.6300e-03, -3.2350e-03, -4.2010e-03,\n",
       "        -1.1520e-03, -8.4890e-03, -3.3300e-04, -1.0630e-03,  4.7000e-05,\n",
       "         1.1170e-03,  3.3070e-03, -3.2220e-03, -4.7800e-03, -2.8300e-03,\n",
       "        -2.6500e-04, -1.1530e-03, -4.4600e-04, -4.2290e-03, -1.6390e-03,\n",
       "        -1.7460e-03, -2.5480e-03, -3.1600e-04, -3.5500e-03, -1.8030e-03,\n",
       "        -1.8500e-03, -2.4000e-05, -6.1390e-03,  2.3090e-03,  8.4000e-05,\n",
       "        -1.0160e-03, -1.8420e-03, -3.5300e-03,  1.0220e-03,  8.3500e-04,\n",
       "        -1.4630e-03,  9.3000e-05,  9.4200e-04, -7.2900e-04, -5.4310e-03,\n",
       "         4.4000e-05,  4.1700e-04, -5.5300e-04, -9.4600e-04, -3.9950e-03,\n",
       "         8.5200e-04,  1.8270e-03, -5.1700e-04, -3.3500e-04, -1.4910e-03,\n",
       "        -2.6200e-04, -6.6790e-03, -3.2030e-03,  1.4890e-03, -1.4520e-03,\n",
       "        -1.3820e-03, -1.4510e-03, -1.3340e-03, -8.3600e-04,  7.6600e-04,\n",
       "        -1.1600e-04, -5.0420e-03, -1.2560e-03,  6.3000e-05,  3.5490e-03,\n",
       "        -4.6340e-03, -3.2470e-03, -1.8350e-03, -2.3000e-05, -6.2520e-03,\n",
       "        -3.8160e-03, -2.6960e-03, -6.9840e-03, -2.0230e-03, -1.9140e-03,\n",
       "        -3.8600e-04, -2.6090e-03, -1.7620e-03, -1.1160e-03,  3.2600e-04,\n",
       "        -4.9280e-03,  1.6960e-03, -3.5580e-03,  5.9300e-04, -5.1300e-04,\n",
       "        -8.2520e-03,  1.4730e-03, -3.4360e-03, -1.7930e-03, -3.3390e-03,\n",
       "        -5.3760e-03,  9.0300e-04, -1.3290e-03, -1.1300e-03, -2.5300e-03,\n",
       "        -1.8240e-03, -2.8640e-03, -1.6680e-03, -3.1230e-03, -3.7110e-03,\n",
       "        -2.4680e-03, -7.6000e-05, -2.6550e-03, -6.5700e-04, -1.2090e-03,\n",
       "        -2.7630e-03, -7.3000e-04,  1.6250e-03, -1.8610e-03, -1.3190e-03,\n",
       "        -2.9190e-03,  4.0400e-04, -8.9900e-04, -1.7070e-03,  3.3850e-03,\n",
       "        -3.6320e-03,  1.1080e-03, -4.3870e-03, -1.7000e-05, -2.9700e-03,\n",
       "        -4.6500e-04, -1.2090e-03, -8.4700e-04, -2.4250e-03, -1.1250e-03,\n",
       "        -2.1360e-03, -9.4600e-04, -3.7540e-03, -2.6550e-03,  4.9300e-04,\n",
       "        -7.1370e-03, -2.0150e-03, -2.6410e-03, -4.4410e-03, -3.0120e-03,\n",
       "         2.0990e-03, -2.9150e-03,  2.5910e-03, -2.5710e-03, -1.1110e-03,\n",
       "        -7.5500e-03, -2.4040e-03, -3.4590e-03, -2.5090e-03, -7.0000e-04,\n",
       "         1.3240e-03, -4.9300e-04, -1.5140e-03,  1.8090e-03,  1.8700e-04,\n",
       "         2.5460e-03, -3.0810e-03, -8.0300e-04, -7.9400e-04, -3.4140e-03,\n",
       "        -8.1300e-04,  5.5900e-04,  9.3500e-04, -5.3730e-03, -3.1000e-03,\n",
       "        -2.1560e-03,  1.4080e-03, -3.3530e-03,  3.9710e-03,  2.8470e-03,\n",
       "        -7.6300e-04, -1.4300e-03, -9.7300e-04, -4.7160e-03, -1.0330e-03,\n",
       "        -2.0300e-03, -2.4330e-03,  6.5000e-05,  6.0000e-05, -9.9200e-04],\n",
       "       dtype=torch.float64)"
      ]
     },
     "execution_count": 13,
     "metadata": {},
     "output_type": "execute_result"
    }
   ],
   "source": [
    "mean_return"
   ]
  },
  {
   "cell_type": "code",
   "execution_count": null,
   "id": "18659a56-a209-4503-971f-8ce9c48ba755",
   "metadata": {},
   "outputs": [],
   "source": []
  }
 ],
 "metadata": {
  "kernelspec": {
   "display_name": "Python 3 (ipykernel)",
   "language": "python",
   "name": "python3"
  },
  "language_info": {
   "codemirror_mode": {
    "name": "ipython",
    "version": 3
   },
   "file_extension": ".py",
   "mimetype": "text/x-python",
   "name": "python",
   "nbconvert_exporter": "python",
   "pygments_lexer": "ipython3",
   "version": "3.11.5"
  },
  "widgets": {
   "application/vnd.jupyter.widget-state+json": {
    "state": {},
    "version_major": 2,
    "version_minor": 0
   }
  }
 },
 "nbformat": 4,
 "nbformat_minor": 5
}
